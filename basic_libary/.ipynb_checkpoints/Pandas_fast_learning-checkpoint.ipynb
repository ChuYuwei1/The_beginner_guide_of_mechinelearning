{
 "cells": [
  {
   "cell_type": "markdown",
   "metadata": {},
   "source": [
    "# Reference"
   ]
  },
  {
   "cell_type": "code",
   "execution_count": 19,
   "metadata": {},
   "outputs": [
    {
     "data": {
      "text/html": [
       "\n",
       "        <iframe\n",
       "            width=\"80%\"\n",
       "            height=\"350\"\n",
       "            src=\"https://www.yiibai.com/pandas/python_pandas_quick_start.html\"\n",
       "            frameborder=\"0\"\n",
       "            allowfullscreen\n",
       "        ></iframe>\n",
       "        "
      ],
      "text/plain": [
       "<IPython.lib.display.IFrame at 0x7f555a124278>"
      ]
     },
     "execution_count": 19,
     "metadata": {},
     "output_type": "execute_result"
    }
   ],
   "source": [
    "from IPython.display import IFrame\n",
    "IFrame('https://www.yiibai.com/pandas/python_pandas_quick_start.html', width='80%', height=350)"
   ]
  },
  {
   "cell_type": "markdown",
   "metadata": {},
   "source": [
    "First of all, Lets text if Pandas is successfully installed in our system"
   ]
  },
  {
   "cell_type": "code",
   "execution_count": 1,
   "metadata": {},
   "outputs": [
    {
     "name": "stdout",
     "output_type": "stream",
     "text": [
      "Hello, Pandas\n"
     ]
    }
   ],
   "source": [
    "import pandas as pd\n",
    "import numpy as np\n",
    "import matplotlib.pyplot as plt\n",
    "print(\"Hello, Pandas\")"
   ]
  },
  {
   "cell_type": "markdown",
   "metadata": {},
   "source": [
    "# To Creat an Object"
   ]
  },
  {
   "cell_type": "markdown",
   "metadata": {},
   "source": [
    "通过传递值列表来创建一个系列:"
   ]
  },
  {
   "cell_type": "code",
   "execution_count": 4,
   "metadata": {},
   "outputs": [
    {
     "name": "stdout",
     "output_type": "stream",
     "text": [
      "0    1.0\n",
      "1    3.0\n",
      "2    5.0\n",
      "3    NaN\n",
      "4    6.0\n",
      "5    8.0\n",
      "dtype: float64\n"
     ]
    }
   ],
   "source": [
    "import pandas as pd\n",
    "import numpy as np\n",
    "\n",
    "s = pd.Series([1,3,5,np.nan,6,8])\n",
    "\n",
    "print(s)"
   ]
  },
  {
   "cell_type": "raw",
   "metadata": {},
   "source": [
    "通过传递numpy数组，使用datetime索引和标记列来创建DataFrame:"
   ]
  },
  {
   "cell_type": "code",
   "execution_count": 8,
   "metadata": {},
   "outputs": [
    {
     "name": "stdout",
     "output_type": "stream",
     "text": [
      "DatetimeIndex(['2018-11-17', '2018-11-18', '2018-11-19', '2018-11-20',\n",
      "               '2018-11-21', '2018-11-22', '2018-11-23'],\n",
      "              dtype='datetime64[ns]', freq='D')\n",
      "\n",
      " ******************************** \n",
      "\n",
      "                   A         B         C         D\n",
      "2018-11-17  0.514832  0.778748 -0.191001 -1.123627\n",
      "2018-11-18  1.698383 -0.088893 -0.576086 -0.207487\n",
      "2018-11-19 -0.032073 -0.619432  0.110399  1.695459\n",
      "2018-11-20  2.115899 -0.846220  1.041634  1.673890\n",
      "2018-11-21  1.847953  0.174457 -0.493625 -1.528536\n",
      "2018-11-22  0.168726  1.991569  1.706197  1.139672\n",
      "2018-11-23 -1.271815 -0.959876  0.378239 -0.426116\n"
     ]
    }
   ],
   "source": [
    "import pandas as pd\n",
    "import numpy as np\n",
    "\n",
    "dates = pd.date_range('20181117',periods=7)\n",
    "print(dates)\n",
    "\n",
    "print('\\n',\"**\"*16,'\\n')\n",
    "\n",
    "df = pd.DataFrame(np.random.randn(7,4), index = dates, columns = list('ABCD'))\n",
    "print(df)"
   ]
  },
  {
   "cell_type": "markdown",
   "metadata": {},
   "source": [
    "通过传递可以转换为类似系列的对象的字典来创建DataFrame:"
   ]
  },
  {
   "cell_type": "code",
   "execution_count": 12,
   "metadata": {},
   "outputs": [
    {
     "name": "stdout",
     "output_type": "stream",
     "text": [
      "     A          B    C  D      E    F\n",
      "0  1.0 2017-01-02  1.0  3   test  foo\n",
      "1  1.0 2017-01-02  1.0  3  train  foo\n",
      "2  1.0 2017-01-02  1.0  3   test  foo\n",
      "3  1.0 2017-01-02  1.0  3  train  foo\n"
     ]
    }
   ],
   "source": [
    "import pandas as pd\n",
    "import numpy as np\n",
    "\n",
    "df2 = pd.DataFrame({ 'A' : 1.,\n",
    "                     'B' : pd.Timestamp('20170102'),\n",
    "                     'C' : pd.Series(1,index=list(range(4)),dtype='float32'),\n",
    "                     'D' : np.array([3] * 4,dtype='int32'),\n",
    "                     'E' : pd.Categorical([\"test\",\"train\",\"test\",\"train\"]),\n",
    "                     'F' : 'foo' })\n",
    "\n",
    "print(df2)"
   ]
  },
  {
   "cell_type": "markdown",
   "metadata": {},
   "source": [
    "# To Check the Object"
   ]
  },
  {
   "cell_type": "markdown",
   "metadata": {},
   "source": [
    "查看框架的顶部和底部的数据行"
   ]
  },
  {
   "cell_type": "code",
   "execution_count": 17,
   "metadata": {},
   "outputs": [
    {
     "name": "stdout",
     "output_type": "stream",
     "text": [
      "                   A         B         C         D\n",
      "2019-01-01  0.783824  0.658986  0.527428  0.211701\n",
      "\n",
      " ----------------------------------------------------------------------\n",
      "                   A         B         C         D\n",
      "2019-01-05  1.753305  0.370565  0.738523 -1.581296\n",
      "2019-01-06 -1.443087  0.236154 -1.606436  0.247117\n",
      "2019-01-07 -0.500745  0.031479 -0.545335  0.188678\n",
      "\n",
      " ----------------------------------------------------------------------\n",
      "                   A         B         C         D\n",
      "2019-01-01  0.783824  0.658986  0.527428  0.211701\n",
      "2019-01-02  1.440106  2.030470  0.031809  0.894760\n",
      "2019-01-03  0.454081 -0.128540 -1.373343  1.110446\n",
      "2019-01-04  0.583133  0.072180  0.904044 -0.544867\n",
      "2019-01-05  1.753305  0.370565  0.738523 -1.581296\n",
      "\n",
      " ----------------------------------------------------------------------\n",
      "                   A         B         C         D\n",
      "2019-01-03  0.454081 -0.128540 -1.373343  1.110446\n",
      "2019-01-04  0.583133  0.072180  0.904044 -0.544867\n",
      "2019-01-05  1.753305  0.370565  0.738523 -1.581296\n",
      "2019-01-06 -1.443087  0.236154 -1.606436  0.247117\n",
      "2019-01-07 -0.500745  0.031479 -0.545335  0.188678\n"
     ]
    }
   ],
   "source": [
    "import pandas as pd\n",
    "import numpy as np\n",
    "\n",
    "dates = pd.date_range('20190101', periods=7)\n",
    "df = pd.DataFrame(np.random.randn(7,4), index=dates, columns=list('ABCD'))\n",
    "print(df.head(1))\n",
    "print('\\n',\"--------------\" * 5)\n",
    "print(df.tail(3))\n",
    "print('\\n',\"--------------\" * 5)\n",
    "print(df.head())\n",
    "print('\\n',\"--------------\" * 5)\n",
    "print(df.tail())"
   ]
  },
  {
   "cell_type": "markdown",
   "metadata": {},
   "source": [
    "显示索引，列和底层numpy数据:"
   ]
  },
  {
   "cell_type": "code",
   "execution_count": 18,
   "metadata": {},
   "outputs": [
    {
     "name": "stdout",
     "output_type": "stream",
     "text": [
      "index is: \n",
      "\n",
      "DatetimeIndex(['2019-01-01', '2019-01-02', '2019-01-03', '2019-01-04',\n",
      "               '2019-01-05', '2019-01-06', '2019-01-07'],\n",
      "              dtype='datetime64[ns]', freq='D')\n",
      "columns is: \n",
      "\n",
      "Index(['A', 'B', 'C', 'D'], dtype='object')\n",
      "values is: \n",
      "\n",
      "[[-0.27559708  0.256468    1.54633015  1.17710659]\n",
      " [-0.17288087 -0.50793981 -0.96981305 -2.61249424]\n",
      " [ 2.02627549  0.08896899  0.73221054  0.22738   ]\n",
      " [ 0.42087467  0.89543443  1.06157508  1.70490708]\n",
      " [-0.96480652  0.6399674   0.44883617 -0.39064757]\n",
      " [-0.06631172 -1.2824176  -0.80144621  1.62907481]\n",
      " [ 0.01064595  1.66116434  1.99920962 -0.45010255]]\n"
     ]
    }
   ],
   "source": [
    "import pandas as pd\n",
    "import numpy as np\n",
    "\n",
    "dates = pd.date_range('20190101', periods=7)\n",
    "df =pd.DataFrame(np.random.randn(7,4), index=dates, columns=list('ABCD'))\n",
    "\n",
    "print(\"index is: \\n\")\n",
    "print(df.index)\n",
    "\n",
    "print(\"columns is: \\n\")\n",
    "print(df.columns)\n",
    "\n",
    "print(\"values is: \\n\")\n",
    "print(df.values)"
   ]
  },
  {
   "cell_type": "markdown",
   "metadata": {},
   "source": [
    "描述显示数据的快速统计摘要:"
   ]
  }
 ],
 "metadata": {
  "kernelspec": {
   "display_name": "Python 3",
   "language": "python",
   "name": "python3"
  },
  "language_info": {
   "codemirror_mode": {
    "name": "ipython",
    "version": 3
   },
   "file_extension": ".py",
   "mimetype": "text/x-python",
   "name": "python",
   "nbconvert_exporter": "python",
   "pygments_lexer": "ipython3",
   "version": "3.6.6"
  }
 },
 "nbformat": 4,
 "nbformat_minor": 2
}
