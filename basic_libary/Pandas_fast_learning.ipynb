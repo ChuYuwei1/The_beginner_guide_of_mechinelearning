{
 "cells": [
  {
   "cell_type": "markdown",
   "metadata": {},
   "source": [
    "# Reference"
   ]
  },
  {
   "cell_type": "code",
   "execution_count": 19,
   "metadata": {},
   "outputs": [
    {
     "data": {
      "text/html": [
       "\n",
       "        <iframe\n",
       "            width=\"80%\"\n",
       "            height=\"350\"\n",
       "            src=\"https://www.yiibai.com/pandas/python_pandas_quick_start.html\"\n",
       "            frameborder=\"0\"\n",
       "            allowfullscreen\n",
       "        ></iframe>\n",
       "        "
      ],
      "text/plain": [
       "<IPython.lib.display.IFrame at 0x7f555a124278>"
      ]
     },
     "execution_count": 19,
     "metadata": {},
     "output_type": "execute_result"
    }
   ],
   "source": [
    "from IPython.display import IFrame\n",
    "IFrame('https://www.yiibai.com/pandas/python_pandas_quick_start.html', width='80%', height=350)"
   ]
  },
  {
   "cell_type": "markdown",
   "metadata": {},
   "source": [
    "First of all, Lets text if Pandas is successfully installed in our system"
   ]
  },
  {
   "cell_type": "code",
   "execution_count": 1,
   "metadata": {},
   "outputs": [
    {
     "name": "stdout",
     "output_type": "stream",
     "text": [
      "Hello, Pandas\n"
     ]
    }
   ],
   "source": [
    "import pandas as pd\n",
    "import numpy as np\n",
    "import matplotlib.pyplot as plt\n",
    "print(\"Hello, Pandas\")"
   ]
  },
  {
   "cell_type": "markdown",
   "metadata": {},
   "source": [
    "# To Creat an Object"
   ]
  },
  {
   "cell_type": "markdown",
   "metadata": {},
   "source": [
    "通过传递值列表来创建一个系列:"
   ]
  },
  {
   "cell_type": "code",
   "execution_count": 4,
   "metadata": {},
   "outputs": [
    {
     "name": "stdout",
     "output_type": "stream",
     "text": [
      "0    1.0\n",
      "1    3.0\n",
      "2    5.0\n",
      "3    NaN\n",
      "4    6.0\n",
      "5    8.0\n",
      "dtype: float64\n"
     ]
    }
   ],
   "source": [
    "import pandas as pd\n",
    "import numpy as np\n",
    "\n",
    "s = pd.Series([1,3,5,np.nan,6,8])\n",
    "\n",
    "print(s)"
   ]
  },
  {
   "cell_type": "raw",
   "metadata": {},
   "source": [
    "通过传递numpy数组，使用datetime索引和标记列来创建DataFrame:"
   ]
  },
  {
   "cell_type": "code",
   "execution_count": 8,
   "metadata": {},
   "outputs": [
    {
     "name": "stdout",
     "output_type": "stream",
     "text": [
      "DatetimeIndex(['2018-11-17', '2018-11-18', '2018-11-19', '2018-11-20',\n",
      "               '2018-11-21', '2018-11-22', '2018-11-23'],\n",
      "              dtype='datetime64[ns]', freq='D')\n",
      "\n",
      " ******************************** \n",
      "\n",
      "                   A         B         C         D\n",
      "2018-11-17  0.514832  0.778748 -0.191001 -1.123627\n",
      "2018-11-18  1.698383 -0.088893 -0.576086 -0.207487\n",
      "2018-11-19 -0.032073 -0.619432  0.110399  1.695459\n",
      "2018-11-20  2.115899 -0.846220  1.041634  1.673890\n",
      "2018-11-21  1.847953  0.174457 -0.493625 -1.528536\n",
      "2018-11-22  0.168726  1.991569  1.706197  1.139672\n",
      "2018-11-23 -1.271815 -0.959876  0.378239 -0.426116\n"
     ]
    }
   ],
   "source": [
    "import pandas as pd\n",
    "import numpy as np\n",
    "\n",
    "dates = pd.date_range('20181117',periods=7)\n",
    "print(dates)\n",
    "\n",
    "print('\\n',\"**\"*16,'\\n')\n",
    "\n",
    "df = pd.DataFrame(np.random.randn(7,4), index = dates, columns = list('ABCD'))\n",
    "print(df)"
   ]
  },
  {
   "cell_type": "markdown",
   "metadata": {},
   "source": [
    "通过传递可以转换为类似系列的对象的字典来创建DataFrame:"
   ]
  },
  {
   "cell_type": "code",
   "execution_count": 12,
   "metadata": {},
   "outputs": [
    {
     "name": "stdout",
     "output_type": "stream",
     "text": [
      "     A          B    C  D      E    F\n",
      "0  1.0 2017-01-02  1.0  3   test  foo\n",
      "1  1.0 2017-01-02  1.0  3  train  foo\n",
      "2  1.0 2017-01-02  1.0  3   test  foo\n",
      "3  1.0 2017-01-02  1.0  3  train  foo\n"
     ]
    }
   ],
   "source": [
    "import pandas as pd\n",
    "import numpy as np\n",
    "\n",
    "df2 = pd.DataFrame({ 'A' : 1.,\n",
    "                     'B' : pd.Timestamp('20170102'),\n",
    "                     'C' : pd.Series(1,index=list(range(4)),dtype='float32'),\n",
    "                     'D' : np.array([3] * 4,dtype='int32'),\n",
    "                     'E' : pd.Categorical([\"test\",\"train\",\"test\",\"train\"]),\n",
    "                     'F' : 'foo' })\n",
    "\n",
    "print(df2)"
   ]
  },
  {
   "cell_type": "markdown",
   "metadata": {},
   "source": [
    "# To Check the Object"
   ]
  },
  {
   "cell_type": "markdown",
   "metadata": {},
   "source": [
    "查看框架的顶部和底部的数据行"
   ]
  },
  {
   "cell_type": "code",
   "execution_count": 17,
   "metadata": {},
   "outputs": [
    {
     "name": "stdout",
     "output_type": "stream",
     "text": [
      "                   A         B         C         D\n",
      "2019-01-01  0.783824  0.658986  0.527428  0.211701\n",
      "\n",
      " ----------------------------------------------------------------------\n",
      "                   A         B         C         D\n",
      "2019-01-05  1.753305  0.370565  0.738523 -1.581296\n",
      "2019-01-06 -1.443087  0.236154 -1.606436  0.247117\n",
      "2019-01-07 -0.500745  0.031479 -0.545335  0.188678\n",
      "\n",
      " ----------------------------------------------------------------------\n",
      "                   A         B         C         D\n",
      "2019-01-01  0.783824  0.658986  0.527428  0.211701\n",
      "2019-01-02  1.440106  2.030470  0.031809  0.894760\n",
      "2019-01-03  0.454081 -0.128540 -1.373343  1.110446\n",
      "2019-01-04  0.583133  0.072180  0.904044 -0.544867\n",
      "2019-01-05  1.753305  0.370565  0.738523 -1.581296\n",
      "\n",
      " ----------------------------------------------------------------------\n",
      "                   A         B         C         D\n",
      "2019-01-03  0.454081 -0.128540 -1.373343  1.110446\n",
      "2019-01-04  0.583133  0.072180  0.904044 -0.544867\n",
      "2019-01-05  1.753305  0.370565  0.738523 -1.581296\n",
      "2019-01-06 -1.443087  0.236154 -1.606436  0.247117\n",
      "2019-01-07 -0.500745  0.031479 -0.545335  0.188678\n"
     ]
    }
   ],
   "source": [
    "import pandas as pd\n",
    "import numpy as np\n",
    "\n",
    "dates = pd.date_range('20190101', periods=7)\n",
    "df = pd.DataFrame(np.random.randn(7,4), index=dates, columns=list('ABCD'))\n",
    "print(df.head(1))\n",
    "print('\\n',\"--------------\" * 5)\n",
    "print(df.tail(3))\n",
    "print('\\n',\"--------------\" * 5)\n",
    "print(df.head())\n",
    "print('\\n',\"--------------\" * 5)\n",
    "print(df.tail())"
   ]
  },
  {
   "cell_type": "markdown",
   "metadata": {},
   "source": [
    "显示索引，列和底层numpy数据:"
   ]
  },
  {
   "cell_type": "code",
   "execution_count": 18,
   "metadata": {},
   "outputs": [
    {
     "name": "stdout",
     "output_type": "stream",
     "text": [
      "index is: \n",
      "\n",
      "DatetimeIndex(['2019-01-01', '2019-01-02', '2019-01-03', '2019-01-04',\n",
      "               '2019-01-05', '2019-01-06', '2019-01-07'],\n",
      "              dtype='datetime64[ns]', freq='D')\n",
      "columns is: \n",
      "\n",
      "Index(['A', 'B', 'C', 'D'], dtype='object')\n",
      "values is: \n",
      "\n",
      "[[-0.27559708  0.256468    1.54633015  1.17710659]\n",
      " [-0.17288087 -0.50793981 -0.96981305 -2.61249424]\n",
      " [ 2.02627549  0.08896899  0.73221054  0.22738   ]\n",
      " [ 0.42087467  0.89543443  1.06157508  1.70490708]\n",
      " [-0.96480652  0.6399674   0.44883617 -0.39064757]\n",
      " [-0.06631172 -1.2824176  -0.80144621  1.62907481]\n",
      " [ 0.01064595  1.66116434  1.99920962 -0.45010255]]\n"
     ]
    }
   ],
   "source": [
    "import pandas as pd\n",
    "import numpy as np\n",
    "\n",
    "dates = pd.date_range('20190101', periods=7)\n",
    "df =pd.DataFrame(np.random.randn(7,4), index=dates, columns=list('ABCD'))\n",
    "\n",
    "print(\"index is: \\n\")\n",
    "print(df.index)\n",
    "\n",
    "print(\"columns is: \\n\")\n",
    "print(df.columns)\n",
    "\n",
    "print(\"values is: \\n\")\n",
    "print(df.values)"
   ]
  },
  {
   "cell_type": "markdown",
   "metadata": {},
   "source": [
    "描述显示数据的快速统计摘要:"
   ]
  },
  {
   "cell_type": "code",
   "execution_count": 30,
   "metadata": {},
   "outputs": [
    {
     "name": "stdout",
     "output_type": "stream",
     "text": [
      "              A         B         C         D\n",
      "count  7.000000  7.000000  7.000000  7.000000\n",
      "mean   0.216766  0.449797 -0.305767  0.683861\n",
      "std    0.865039  0.915211  0.460842  1.125884\n",
      "min   -1.341174 -0.477032 -0.780242 -0.849015\n",
      "25%   -0.140379 -0.012490 -0.657233 -0.013390\n",
      "50%    0.381700  0.097376 -0.569180  0.496316\n",
      "75%    0.751864  0.615757  0.127297  1.396509\n",
      "max    1.253868  2.321698  0.268927  2.373491\n"
     ]
    }
   ],
   "source": [
    "import pandas as pd\n",
    "import numpy as np\n",
    "\n",
    "dates = pd.date_range('20190101', periods=7)\n",
    "df = pd.DataFrame(np.random.randn(7,4), index=dates, columns=list('ABCD'))\n",
    "\n",
    "print(df.describe())"
   ]
  },
  {
   "cell_type": "markdown",
   "metadata": {},
   "source": [
    "调换数据:"
   ]
  },
  {
   "cell_type": "markdown",
   "metadata": {},
   "source": [
    "* Transport"
   ]
  },
  {
   "cell_type": "code",
   "execution_count": 23,
   "metadata": {},
   "outputs": [
    {
     "name": "stdout",
     "output_type": "stream",
     "text": [
      "   2019-01-01  2019-01-02  2019-01-03  2019-01-04  2019-01-05  2019-01-06\n",
      "A    0.053351    0.016829   -0.869647   -0.106448    0.252825   -1.095574\n",
      "B    1.189102    1.448038   -0.969205   -1.067257    0.104898   -0.878615\n",
      "C    0.619435    1.026699    1.309780   -0.642645   -0.008996    1.798421\n",
      "D   -0.606162   -0.343360   -0.838843    1.302212    0.542520   -2.125900\n"
     ]
    }
   ],
   "source": [
    "import pandas as pd\n",
    "import numpy as np\n",
    "\n",
    "dates = pd.date_range('20190101', periods=6)\n",
    "df = pd.DataFrame(np.random.randn(6,4), index=dates, columns=list('ABCD'))\n",
    "\n",
    "print(df.T)"
   ]
  },
  {
   "cell_type": "markdown",
   "metadata": {},
   "source": [
    "* Descending by axis "
   ]
  },
  {
   "cell_type": "code",
   "execution_count": 31,
   "metadata": {},
   "outputs": [
    {
     "name": "stdout",
     "output_type": "stream",
     "text": [
      "                   D         C         B         A\n",
      "2019-01-01 -1.592531  0.120542  2.211331 -0.162165\n",
      "2019-01-02 -0.112739 -1.421678 -2.931560 -1.355764\n",
      "2019-01-03  1.060165 -1.541574  1.141430 -0.111220\n",
      "2019-01-04  0.035834 -1.486494 -0.069884  0.606926\n",
      "2019-01-05 -1.469628  0.700018  0.883038  0.410995\n",
      "2019-01-06 -1.221864  0.445256 -0.856386  0.271025\n"
     ]
    }
   ],
   "source": [
    "import pandas as pd\n",
    "import numpy as np\n",
    "\n",
    "dates = pd.date_range('20190101', periods=6)\n",
    "df = pd.DataFrame(np.random.randn(6,4), index=dates, columns=list('ABCD'))\n",
    "\n",
    "print(df.sort_index(axis=1, ascending=False))"
   ]
  },
  {
   "cell_type": "markdown",
   "metadata": {},
   "source": [
    "* Descending by index "
   ]
  },
  {
   "cell_type": "code",
   "execution_count": 52,
   "metadata": {},
   "outputs": [
    {
     "name": "stdout",
     "output_type": "stream",
     "text": [
      "                   A         B         C         D\n",
      "2019-01-06  0.312431 -0.661626  0.599381 -0.642868\n",
      "2019-01-05 -0.089581  0.210170 -0.555343 -0.452854\n",
      "2019-01-04  0.487839  0.243203  0.272251  0.178439\n",
      "2019-01-03  0.083427 -0.944636  1.679948 -0.019905\n",
      "2019-01-02 -0.716678 -0.379300 -0.141507  0.404262\n",
      "2019-01-01 -1.411532  0.994564  1.990217  0.519273\n"
     ]
    }
   ],
   "source": [
    "import pandas as pd\n",
    "import numpy as np\n",
    "\n",
    "dates = pd.date_range('20190101', periods=6)\n",
    "df = pd.DataFrame(np.random.randn(6,4), index=dates, columns=list('ABCD'))\n",
    "\n",
    "print(df.sort_index(ascending=False))"
   ]
  },
  {
   "cell_type": "markdown",
   "metadata": {},
   "source": [
    "* values"
   ]
  },
  {
   "cell_type": "code",
   "execution_count": 36,
   "metadata": {},
   "outputs": [
    {
     "name": "stdout",
     "output_type": "stream",
     "text": [
      "                   A         B         C         D\n",
      "2019-01-01 -1.927620 -1.432677 -0.834755  1.201861\n",
      "2019-01-03 -0.964496 -0.114485  0.524401 -1.948751\n",
      "2019-01-04 -0.446027  0.802718  0.507630  0.110614\n",
      "2019-01-02  0.176442 -0.016933  2.231832 -1.713844\n",
      "2019-01-06  0.930549  0.602588  1.107437  1.497224\n",
      "2019-01-05  1.734736 -2.349060 -0.862645  0.463325\n"
     ]
    }
   ],
   "source": [
    "import pandas as pd\n",
    "import numpy as np\n",
    "\n",
    "dates = pd.date_range('20190101', periods=6)\n",
    "df = pd.DataFrame(np.random.randn(6,4), index=dates, columns=list('ABCD'))\n",
    "\n",
    "print(df.sort_values(by='A'))"
   ]
  },
  {
   "cell_type": "markdown",
   "metadata": {},
   "source": [
    "# To Select a Block"
   ]
  },
  {
   "cell_type": "markdown",
   "metadata": {},
   "source": [
    "获取:"
   ]
  },
  {
   "cell_type": "code",
   "execution_count": 43,
   "metadata": {},
   "outputs": [
    {
     "name": "stdout",
     "output_type": "stream",
     "text": [
      "2019-01-01   -0.460731\n",
      "2019-01-02    0.232002\n",
      "2019-01-03   -1.861685\n",
      "2019-01-04   -0.813665\n",
      "2019-01-05   -0.201004\n",
      "2019-01-06   -0.190536\n",
      "Freq: D, Name: A, dtype: float64\n",
      "\n",
      " ------------------\n",
      "\n",
      "                    A         B         C         D\n",
      "2019-01-01 -0.460731  1.638196  0.091154 -0.785592\n",
      "2019-01-02  0.232002  0.773476 -0.506231  0.174110\n",
      "2019-01-03 -1.861685  0.260175  1.600768  1.157990\n",
      "\n",
      " ------------------\n",
      "\n",
      "                    A         B         C         D\n",
      "2019-01-05 -0.201004 -0.368446  1.081060 -0.312627\n",
      "2019-01-06 -0.190536 -0.971532 -0.549605 -0.101085\n"
     ]
    }
   ],
   "source": [
    "import pandas as pd\n",
    "import numpy as np\n",
    "\n",
    "dates = pd.date_range('20190101', periods=6)\n",
    "df = pd.DataFrame(np.random.randn(6,4), index=dates, columns=list('ABCD'))\n",
    "\n",
    "print(df['A'])\n",
    "print('\\n',\"------\"*3)\n",
    "\n",
    "print('\\n',df[0:3])\n",
    "print('\\n',\"------\"*3)\n",
    "\n",
    "print('\\n',df['20190105':'20190106'])"
   ]
  },
  {
   "cell_type": "markdown",
   "metadata": {},
   "source": [
    "按标签选择:"
   ]
  },
  {
   "cell_type": "code",
   "execution_count": 51,
   "metadata": {},
   "outputs": [
    {
     "name": "stdout",
     "output_type": "stream",
     "text": [
      "A    0.999617\n",
      "B   -1.119451\n",
      "C   -0.934827\n",
      "D   -0.483968\n",
      "Name: 2019-01-01 00:00:00, dtype: float64 \n",
      "\n",
      "################################################ \n",
      "\n",
      "                   A         B\n",
      "2019-01-01  0.999617 -1.119451\n",
      "2019-01-02  0.398348 -0.676717\n",
      "2019-01-03  1.963513  0.407708\n",
      "2019-01-04  0.878143  0.320459\n",
      "2019-01-05  2.060272  1.192133\n",
      "2019-01-06 -1.131868  2.351004 \n",
      "\n",
      "################################################ \n",
      "\n",
      "                   A         B         C\n",
      "2019-01-03  1.963513  0.407708  0.652525\n",
      "2019-01-04  0.878143  0.320459  0.436694\n",
      "2019-01-05  2.060272  1.192133  1.199084 \n",
      "\n",
      "################################################ \n",
      "\n",
      "A    0.398348\n",
      "Name: 2019-01-02 00:00:00, dtype: float64 \n",
      "\n",
      "################################################ \n",
      "\n",
      "0.398347776641\n",
      "0.398347776641\n"
     ]
    }
   ],
   "source": [
    "import pandas as pd\n",
    "import numpy as np\n",
    "\n",
    "dates = pd.date_range('20190101', periods=6)\n",
    "df = pd.DataFrame(np.random.randn(6,4), index=dates, columns=list('ABCD'))\n",
    "\n",
    "print(df.loc[dates[0]],'\\n')\n",
    "print(\"########\"*6,'\\n')\n",
    "\n",
    "print(df.loc[:,['A','B']],'\\n')\n",
    "print(\"########\"*6,'\\n')\n",
    "\n",
    "print(df.loc['20190103':'20190105',['A','B','C']],'\\n')\n",
    "print(\"########\"*6,'\\n')\n",
    "\n",
    "print(df.loc['20190102',['A']],'\\n')\n",
    "print(\"########\"*6,'\\n')\n",
    "\n",
    "print(df.loc[dates[1],'A'])\n",
    "print(df.at[dates[1],'A'])"
   ]
  },
  {
   "cell_type": "markdown",
   "metadata": {},
   "source": [
    "通过位置选择:"
   ]
  },
  {
   "cell_type": "code",
   "execution_count": 59,
   "metadata": {},
   "outputs": [
    {
     "name": "stdout",
     "output_type": "stream",
     "text": [
      "A    0.245084\n",
      "B   -1.729807\n",
      "C   -1.427249\n",
      "D   -0.059672\n",
      "Name: 2019-01-04 00:00:00, dtype: float64 \n",
      "\n",
      "&&&&&&&&&&&&&&&&&&&&&&&&&&&&&&&&&&&&&&&&&&&&&&&&&& \n",
      "\n",
      "                   B         C\n",
      "2019-01-04 -1.729807 -1.427249\n",
      "2019-01-05  0.061247 -0.537312 \n",
      "\n",
      "&&&&&&&&&&&&&&&&&&&&&&&&&&&&&&&&&&&&&&&&&&&&&&&&&& \n",
      "\n",
      "                   A         C\n",
      "2019-01-02  0.852828 -0.494653\n",
      "2019-01-03  0.464303  1.631454\n",
      "2019-01-05  0.478185 -0.537312 \n",
      "\n",
      "&&&&&&&&&&&&&&&&&&&&&&&&&&&&&&&&&&&&&&&&&&&&&&&&&& \n",
      "\n",
      "                   A         B         C         D\n",
      "2019-01-01  0.326255  0.164385  0.520850 -0.783352\n",
      "2019-01-02  0.852828 -0.033349 -0.494653  0.566756\n",
      "2019-01-03  0.464303  0.757084  1.631454 -0.075489 \n",
      "\n",
      "&&&&&&&&&&&&&&&&&&&&&&&&&&&&&&&&&&&&&&&&&&&&&&&&&& \n",
      "\n",
      "                   A         B         C\n",
      "2019-01-01  0.326255  0.164385  0.520850\n",
      "2019-01-02  0.852828 -0.033349 -0.494653\n",
      "2019-01-03  0.464303  0.757084  1.631454\n",
      "2019-01-04  0.245084 -1.729807 -1.427249\n",
      "2019-01-05  0.478185  0.061247 -0.537312\n",
      "2019-01-06 -0.589501 -1.710711 -0.113193 \n",
      "\n",
      "&&&&&&&&&&&&&&&&&&&&&&&&&&&&&&&&&&&&&&&&&&&&&&&&&& \n",
      "\n",
      "-0.0333494316563\n",
      "-0.0333494316563\n"
     ]
    }
   ],
   "source": [
    "import pandas as pd\n",
    "import numpy as np\n",
    "\n",
    "dates = pd.date_range('20190101', periods=6)\n",
    "df = pd.DataFrame(np.random.randn(6,4), index=dates, columns=list('ABCD'))\n",
    "\n",
    "print(df.iloc[3],'\\n')\n",
    "print(\"&&&&&&&&&&\"*5,'\\n')\n",
    "\n",
    "print(df.iloc[3:5,1:3],'\\n')\n",
    "print(\"&&&&&&&&&&\"*5,'\\n')\n",
    "\n",
    "print(df.iloc[[1,2,4],[0,2]],'\\n')\n",
    "print(\"&&&&&&&&&&\"*5,'\\n')\n",
    "\n",
    "print(df.iloc[0:3,:],'\\n')\n",
    "print(\"&&&&&&&&&&\"*5,'\\n')\n",
    "\n",
    "print(df.iloc[:,0:3],'\\n')\n",
    "print(\"&&&&&&&&&&\"*5,'\\n')\n",
    "\n",
    "print(df.iloc[1,1])\n",
    "print(df.iat[1,1])"
   ]
  },
  {
   "cell_type": "markdown",
   "metadata": {},
   "source": [
    "布尔索引:"
   ]
  },
  {
   "cell_type": "code",
   "execution_count": 63,
   "metadata": {},
   "outputs": [
    {
     "name": "stdout",
     "output_type": "stream",
     "text": [
      "                   A         B         C         D\n",
      "2019-01-01  1.853620  0.151125 -1.368613  0.498462\n",
      "2019-01-03  0.010478  0.025632 -0.720798  2.847678\n",
      "2019-01-06  0.597935  0.547082  1.220044 -1.560745 \n",
      "\n",
      "@@@@@@@@@@@@@@@@@@@@@@@@@@@@@@@@@@@@@@@@@@@@@@@@@@ \n",
      "\n",
      "                   A         B         C         D\n",
      "2019-01-01  1.853620  0.151125       NaN  0.498462\n",
      "2019-01-02       NaN  0.276975       NaN  0.074005\n",
      "2019-01-03  0.010478  0.025632       NaN  2.847678\n",
      "2019-01-04       NaN       NaN  0.665001       NaN\n",
      "2019-01-05       NaN       NaN  0.636061       NaN\n",
      "2019-01-06  0.597935  0.547082  1.220044       NaN \n",
      "\n",
      "@@@@@@@@@@@@@@@@@@@@@@@@@@@@@@@@@@@@@@@@@@@@@@@@@@ \n",
      "\n",
      "                   A         B         C         D      E\n",
      "2019-01-01  1.853620  0.151125 -1.368613  0.498462    one\n",
      "2019-01-02 -2.320652  0.276975 -1.049056  0.074005    two\n",
      "2019-01-03  0.010478  0.025632 -0.720798  2.847678  three\n",
      "2019-01-04 -0.411430 -0.033299  0.665001 -0.184897   four\n",
      "2019-01-05 -0.431326 -0.423902  0.636061 -0.846205   five\n",
      "2019-01-06  0.597935  0.547082  1.220044 -1.560745    six\n",
      "============= start to filter =============== \n",
      "                   A         B         C         D     E\n",
      "2019-01-02 -2.320652  0.276975 -1.049056  0.074005   two\n",
      "2019-01-04 -0.411430 -0.033299  0.665001 -0.184897  four\n"
     ]
    }
   ],
   "source": [
    "import pandas as pd\n",
    "import numpy as np\n",
    "\n",
    "dates = pd.date_range('20190101',periods=6)\n",
    "df =pd.DataFrame(np.random.randn(6,4), index=dates, columns=list('ABCD'))\n",
    "\n",
    "print(df[df.A>0],'\\n')\n",
    "print(\"@@@@@@@@@@\"*5,'\\n')\n",
    "\n",
    "print(df[df>0],'\\n')\n",
    "print(\"@@@@@@@@@@\"*5,'\\n')\n",
    "\n",
    "df2 =df.copy()\n",
    "df2['E'] = ['one','two','three','four','five','six']\n",
    "\n",
    "print(df2)\n",
    "\n",
    "print(\"============= start to filter =============== \")\n",
    "\n",
    "print(df2[df2['E'].isin(['two','four'])])"
   ]
  }
 ],
 "metadata": {
  "kernelspec": {
   "display_name": "Python 3",
   "language": "python",
   "name": "python3"
  },
  "language_info": {
   "codemirror_mode": {
    "name": "ipython",
    "version": 3
   },
   "file_extension": ".py",
   "mimetype": "text/x-python",
   "name": "python",
   "nbconvert_exporter": "python",
   "pygments_lexer": "ipython3",
   "version": "3.6.6"
  }
 },
 "nbformat": 4,
 "nbformat_minor": 2
}
